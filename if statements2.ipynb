{
    "nbformat_minor": 1, 
    "cells": [
        {
            "source": "##### An if statement causes something to happen if the criteria in the parenthesis is met. If statements take a form like this:  \n&nbsp;&nbsp; if(this_condition_met):  &nbsp;&nbsp;&nbsp;&nbsp;&nbsp; *Make sure to remember the colon after the parenthesis!!*   \n&nbsp;&nbsp;&nbsp;&nbsp;&nbsp;&nbsp;&nbsp; some things happen here  &nbsp;&nbsp;&nbsp;&nbsp;&nbsp; *This could be one thing or a series of things*  \n  \n  \n\nSome simple conditions that can be met are things like  \n  \n*if something is equal to something else (in these examples the something else is x*  \n```if(something==x):  \n     this will happen```\n          \n*if something is more than x*  \n```if(something>=x):  \n     this will happen```  \n    \n*if something is not x*  \n```if(something!=x):  \n     this will happen```  ", 
            "cell_type": "markdown", 
            "metadata": {}
        }, 
        {
            "source": "##### Here is one example of how to use the if function.", 
            "cell_type": "markdown", 
            "metadata": {}
        }, 
        {
            "execution_count": null, 
            "cell_type": "code", 
            "metadata": {
                "scrolled": true
            }, 
            "outputs": [], 
            "source": "age=18\nif(age>17):\n    print(\"you are old enough\")"
        }, 
        {
            "source": "##### Here is another example with an operation that occurs when the if statement is true.", 
            "cell_type": "markdown", 
            "metadata": {}
        }, 
        {
            "execution_count": null, 
            "cell_type": "code", 
            "metadata": {}, 
            "outputs": [], 
            "source": "age=11\nif(age>0):\n    age=age+1\n    print(\"next year your age will be\",age)   "
        }, 
        {
            "execution_count": null, 
            "cell_type": "code", 
            "metadata": {}, 
            "outputs": [], 
            "source": "quality=\"good\"\nif(quality==\"good\"):\n    print(\"the quality is good\")"
        }, 
        {
            "source": "##### The second if statement above provides an example of a time we can also use an else statement.  \nIf the quality is not good, we will assume it is bad and want to say that instead. We can use an else statement to output that it is bad.", 
            "cell_type": "markdown", 
            "metadata": {}
        }, 
        {
            "execution_count": null, 
            "cell_type": "code", 
            "metadata": {}, 
            "outputs": [], 
            "source": "quality=\"bad\"\nif(quality==\"good\"):\n    print(\"the quality is good\")\nelse:\n    print(\"the quality is bad\")"
        }, 
        {
            "source": "##### Here is an example using if, elif, and else. Try changing the value of age within the code to get different outputs.", 
            "cell_type": "markdown", 
            "metadata": {}
        }, 
        {
            "execution_count": null, 
            "cell_type": "code", 
            "metadata": {}, 
            "outputs": [], 
            "source": "age=17\nif(age>=17):\n    print(\"you can go to a R rated movie\")\nelif(age>=13):\n    print(\"you can go to a PG-13 rated movie\")\nelse:\n    print(\"you can go to a G rated movie\")"
        }
    ], 
    "metadata": {
        "kernelspec": {
            "display_name": "Python 3.5", 
            "name": "python3", 
            "language": "python"
        }, 
        "language_info": {
            "mimetype": "text/x-python", 
            "nbconvert_exporter": "python", 
            "version": "3.5.5", 
            "name": "python", 
            "file_extension": ".py", 
            "pygments_lexer": "ipython3", 
            "codemirror_mode": {
                "version": 3, 
                "name": "ipython"
            }
        }
    }, 
    "nbformat": 4
}