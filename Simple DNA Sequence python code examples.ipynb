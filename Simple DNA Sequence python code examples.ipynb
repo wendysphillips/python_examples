{
    "nbformat_minor": 1, 
    "cells": [
        {
            "execution_count": 31, 
            "cell_type": "code", 
            "metadata": {}, 
            "outputs": [], 
            "source": "#We will start by creating a short string of DNA sequence to use.\ndseq=\"TGAGTGCCCGTATGGCAAAAATTTTTGAATTCATATCGTGCGTGATGCCC\""
        }, 
        {
            "execution_count": 32, 
            "cell_type": "code", 
            "metadata": {}, 
            "outputs": [
                {
                    "execution_count": 32, 
                    "metadata": {}, 
                    "data": {
                        "text/plain": "1"
                    }, 
                    "output_type": "execute_result"
                }
            ], 
            "source": "dseq.find(\"GAG\") #This example helps understand why the 1 is added below. You can see that if you cut after the first G, you get TG on the left, which has a length of 2"
        }, 
        {
            "execution_count": 41, 
            "cell_type": "code", 
            "metadata": {}, 
            "outputs": [
                {
                    "output_type": "stream", 
                    "name": "stdout", 
                    "text": "total length is  50\nleft length is  27\nleft length is  23\n"
                }
            ], 
            "source": "#We can calculate the size of the two fragments created if the DNA was digested with EcoRI, which cuts the motif G^AATTC\ncut=dseq.find(\"GAATTC\")+1  #This gives the length of the left fragment. 1 is added to account for the cut being after the 'G'\nrlen=len(dseq)-cut   #The length of the right side is the total minus the length of the left side\nprint(\"total length is \",len(dseq))\nprint(\"left length is \", cut)\nprint(\"left length is \", rlen)"
        }, 
        {
            "execution_count": 35, 
            "cell_type": "code", 
            "metadata": {}, 
            "outputs": [
                {
                    "output_type": "stream", 
                    "name": "stdout", 
                    "text": "method 1:  TGAGTGCCCGTATGGCGAATTCATATCGTGCGTGATGCCC\nmethod 2:  TGAGTGCCCGTATGGCGAATTCATATCGTGCGTGATGCCC\n"
                }
            ], 
            "source": "#Splice out an intron to leave just the exon sequences. Using the same dseq, we'll pretend \"AAAAATTTTT\" is the intron.\n\n#If we know the sequence of the intron, simply replacing it with nothing will take it out.\nexons=dseq.replace(\"AAAAATTTTT\",\"\")\nprint(\"method 1: \",exons)\n\n#Or if we don't know the intron sequence but know the intron starts at base 17 and ends at base 26, you could do this.\nexon1=dseq[0:16]\nexon2=dseq[26:len(dseq)]\nboth_exons=exon1 + exon2\nprint(\"method 2: \",both_exons)\n"
        }, 
        {
            "execution_count": 36, 
            "cell_type": "code", 
            "metadata": {}, 
            "outputs": [
                {
                    "output_type": "stream", 
                    "name": "stdout", 
                    "text": "80.0 %\n"
                }
            ], 
            "source": "#If we want to know what percent of the sequence is coding (i.e. only exons)\nperc_cod=100*len(both_exons)/len(dseq)  #The length of just the exons divided by the length of the whole sequence give the proportion that is exon. Multiply that by 100 to get a percent.\nprint(perc_cod,\"%\")"
        }, 
        {
            "execution_count": 37, 
            "cell_type": "code", 
            "metadata": {}, 
            "outputs": [
                {
                    "output_type": "stream", 
                    "name": "stdout", 
                    "text": "TGAGTGCCCGTATGGCaaaaatttttGAATTCATATCGTGCGTGATGCCC\n"
                }
            ], 
            "source": "#To print the whole sequence with the intron in lowercase\n#We already have exons 1 and 2 as named variables, so now we need to do the same with the intron sequence\nintron=dseq[16:26]\nintron_low=intron.lower()\nprint(exon1+intron_low+exon2)"
        }, 
        {
            "execution_count": 38, 
            "cell_type": "code", 
            "metadata": {}, 
            "outputs": [
                {
                    "output_type": "stream", 
                    "name": "stdout", 
                    "text": "56.0 %\n"
                }
            ], 
            "source": "#To calculate AT content\ntot_AT=dseq.count(\"A\") + dseq.count(\"T\")\nAT_perc=100*tot_AT/len(dseq)\nprint(AT_perc,\"%\")"
        }, 
        {
            "execution_count": 39, 
            "cell_type": "code", 
            "metadata": {}, 
            "outputs": [
                {
                    "output_type": "stream", 
                    "name": "stdout", 
                    "text": "56.0 %\n"
                }
            ], 
            "source": "#We could double check that answer by also counting the GC content, and adding that to the AT count to get a total # of bases\ntot_GC=dseq.count(\"C\") + dseq.count(\"G\")\ntot_bases=tot_AT+tot_GC\nAT_perc2=100*tot_AT/(tot_bases)\nprint(AT_perc2,\"%\")"
        }, 
        {
            "execution_count": 40, 
            "cell_type": "code", 
            "metadata": {}, 
            "outputs": [
                {
                    "execution_count": 40, 
                    "metadata": {}, 
                    "data": {
                        "text/plain": "int"
                    }, 
                    "output_type": "execute_result"
                }
            ], 
            "source": "type(cut)"
        }, 
        {
            "execution_count": null, 
            "cell_type": "code", 
            "metadata": {}, 
            "outputs": [], 
            "source": ""
        }
    ], 
    "metadata": {
        "kernelspec": {
            "display_name": "Python 3.5", 
            "name": "python3", 
            "language": "python"
        }, 
        "language_info": {
            "mimetype": "text/x-python", 
            "nbconvert_exporter": "python", 
            "version": "3.5.5", 
            "name": "python", 
            "file_extension": ".py", 
            "pygments_lexer": "ipython3", 
            "codemirror_mode": {
                "version": 3, 
                "name": "ipython"
            }
        }
    }, 
    "nbformat": 4
}