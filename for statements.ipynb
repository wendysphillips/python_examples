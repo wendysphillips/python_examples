{
    "nbformat_minor": 1, 
    "cells": [
        {
            "source": "#### Examples of for statements", 
            "cell_type": "markdown", 
            "metadata": {
                "collapsed": true
            }
        }, 
        {
            "source": "##### In the two examples below, you can see that the term following 'for' signifies the sequential entries to be iterated, but almost any text can be used as long as the same  text is used for the subsequent commands. The text following in must be the name of the object subject to iteration.", 
            "cell_type": "markdown", 
            "metadata": {}
        }, 
        {
            "execution_count": 44, 
            "cell_type": "code", 
            "metadata": {
                "scrolled": true
            }, 
            "outputs": [
                {
                    "output_type": "stream", 
                    "name": "stdout", 
                    "text": "2\n4\n6\n"
                }
            ], 
            "source": "numbers=[1,2,3]\nfor numbers in numbers:\n    print(numbers*2)"
        }, 
        {
            "execution_count": 72, 
            "cell_type": "code", 
            "metadata": {}, 
            "outputs": [
                {
                    "output_type": "stream", 
                    "name": "stdout", 
                    "text": "2\n4\n6\n"
                }
            ], 
            "source": "numbers=[1,2,3]\nfor x in numbers:\n    print(x*2)"
        }, 
        {
            "source": "***", 
            "cell_type": "markdown", 
            "metadata": {}
        }, 
        {
            "execution_count": 74, 
            "cell_type": "code", 
            "metadata": {}, 
            "outputs": [
                {
                    "output_type": "stream", 
                    "name": "stdout", 
                    "text": "table\nchair\nbed\n"
                }
            ], 
            "source": "furniture_list=['table','chair','bed']\nfor i,item in enumerate(furniture_list):\n    print(item)"
        }, 
        {
            "execution_count": 71, 
            "cell_type": "code", 
            "metadata": {}, 
            "outputs": [
                {
                    "output_type": "stream", 
                    "name": "stdout", 
                    "text": "0  0\n1  4\n2  36\n"
                }
            ], 
            "source": "nums=[1,4,18]\nfor i,entry in enumerate(nums):\n    print(i,\"\",entry*i)"
        }, 
        {
            "source": "***", 
            "cell_type": "markdown", 
            "metadata": {}
        }, 
        {
            "execution_count": 36, 
            "cell_type": "code", 
            "metadata": {}, 
            "outputs": [
                {
                    "output_type": "stream", 
                    "name": "stdout", 
                    "text": "2\n3\n4\n5\n"
                }
            ], 
            "source": "for i in range(2,15):\n    if(i<6):\n        print(i)"
        }, 
        {
            "source": "***", 
            "cell_type": "markdown", 
            "metadata": {}
        }, 
        {
            "execution_count": 63, 
            "cell_type": "code", 
            "metadata": {}, 
            "outputs": [
                {
                    "output_type": "stream", 
                    "name": "stdout", 
                    "text": "At age 2 you can go to a G rated movie.\nAt age 20 you can go to an R rated movie.\nAt age 14 you can go to an PG-13 rated movie.\nAt age 96 you can go to an R rated movie.\n"
                }
            ], 
            "source": "age=[2,20,14,96]\nfor i,age in enumerate(age):\n    if(age>=17):\n        print(\"At age\", age, 'you can go to an R rated movie.')\n    elif(age>=13):\n        print(\"At age\", age, 'you can go to a PG-13 rated movie.')\n    else:\n        print(\"At age\", age, 'you can go to a G rated movie.')"
        }, 
        {
            "execution_count": 69, 
            "cell_type": "code", 
            "metadata": {}, 
            "outputs": [
                {
                    "output_type": "stream", 
                    "name": "stdout", 
                    "text": "At age 2 you can go to a G rated movie.\nAt age 20 you can go to an R rated movie.\nAt age 14 you can go to an PG-13 rated movie.\nAt age 96 you can go to an R rated movie.\n"
                }
            ], 
            "source": "age=[2,20,14,96]\nfor element in age:\n    if(element>=17):\n        print(\"At age\", element, 'you can go to an R rated movie.')\n    elif(element>=13):\n        print(\"At age\", element, 'you can go to a PG-13 rated movie.')\n    else:\n        print(\"At age\", element, 'you can go to a G rated movie.')"
        }, 
        {
            "source": "***", 
            "cell_type": "markdown", 
            "metadata": {}
        }
    ], 
    "metadata": {
        "kernelspec": {
            "display_name": "Python 3.5", 
            "name": "python3", 
            "language": "python"
        }, 
        "language_info": {
            "mimetype": "text/x-python", 
            "nbconvert_exporter": "python", 
            "version": "3.5.5", 
            "name": "python", 
            "file_extension": ".py", 
            "pygments_lexer": "ipython3", 
            "codemirror_mode": {
                "version": 3, 
                "name": "ipython"
            }
        }
    }, 
    "nbformat": 4
}