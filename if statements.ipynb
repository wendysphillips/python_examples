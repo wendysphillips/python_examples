{
    "nbformat_minor": 1, 
    "cells": [
        {
            "source": "An if statement causes something to happen if the criteria in the parenthesis is met. If statements take a form like this: \nif(this_condition_met):  #Make sure to remember the colon after the parenthesis!!\n    some things happen here  #This could be one thing or a series of things\n\nSome simple conditions that can be met are things like \nif something is equal to something else, say x\n    if(something==x):\nif something is more than x\n    if(something>=x):\nif something is not x\n    if(something!=x):\n\nHere is one example of how to use the if function:", 
            "cell_type": "markdown", 
            "metadata": {}
        }, 
        {
            "execution_count": 11, 
            "cell_type": "code", 
            "metadata": {
                "scrolled": true
            }, 
            "outputs": [
                {
                    "output_type": "stream", 
                    "name": "stdout", 
                    "text": "you are old enough\n"
                }
            ], 
            "source": "age=18\nif(age>17):\n    print(\"you are old enough\")"
        }, 
        {
            "source": "Here is another example with an operation that occurs when the if statement is true", 
            "cell_type": "markdown", 
            "metadata": {}
        }, 
        {
            "execution_count": 26, 
            "cell_type": "code", 
            "metadata": {}, 
            "outputs": [
                {
                    "output_type": "stream", 
                    "name": "stdout", 
                    "text": "next year your age will be 12\n"
                }
            ], 
            "source": "age=11\nif(age>0):\n    age=age+1\n    print(\"next year your age will be\",age)   "
        }, 
        {
            "execution_count": 15, 
            "cell_type": "code", 
            "metadata": {}, 
            "outputs": [
                {
                    "output_type": "stream", 
                    "name": "stdout", 
                    "text": "the quality is good\n"
                }
            ], 
            "source": "quality=\"good\"\nif(quality==\"good\"):\n    print(\"the quality is good\")"
        }, 
        {
            "source": "If the quality is not good, we will assume it is bad and want to say that instead. We can use an else statement", 
            "cell_type": "markdown", 
            "metadata": {}
        }, 
        {
            "execution_count": 18, 
            "cell_type": "code", 
            "metadata": {}, 
            "outputs": [
                {
                    "output_type": "stream", 
                    "name": "stdout", 
                    "text": "the quality is bad\n"
                }
            ], 
            "source": "quality=\"bad\"\nif(quality==\"good\"):\n    print(\"the quality is good\")\nelse:\n    print(\"the quality is bad\")"
        }, 
        {
            "source": "Here is an example using if, elif, and else. Try changing the value of age within the code to get different outputs.", 
            "cell_type": "markdown", 
            "metadata": {}
        }, 
        {
            "execution_count": 22, 
            "cell_type": "code", 
            "metadata": {}, 
            "outputs": [
                {
                    "output_type": "stream", 
                    "name": "stdout", 
                    "text": "you can go to a R rated movie\n"
                }
            ], 
            "source": "age=17\nif(age>=17):\n    print(\"you can go to a R rated movie\")\nelif(age>=13):\n    print(\"you can go to a PG-13 rated movie\")\nelse:\n    print(\"you can go to a G rated movie\")"
        }, 
        {
            "execution_count": null, 
            "cell_type": "code", 
            "metadata": {}, 
            "outputs": [], 
            "source": ""
        }
    ], 
    "metadata": {
        "kernelspec": {
            "display_name": "Python 3.5", 
            "name": "python3", 
            "language": "python"
        }, 
        "language_info": {
            "mimetype": "text/x-python", 
            "nbconvert_exporter": "python", 
            "version": "3.5.5", 
            "name": "python", 
            "file_extension": ".py", 
            "pygments_lexer": "ipython3", 
            "codemirror_mode": {
                "version": 3, 
                "name": "ipython"
            }
        }
    }, 
    "nbformat": 4
}